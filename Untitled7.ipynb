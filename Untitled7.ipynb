{
  "nbformat": 4,
  "nbformat_minor": 0,
  "metadata": {
    "colab": {
      "provenance": [],
      "gpuType": "T4",
      "authorship_tag": "ABX9TyPSTSalyYRo0vzkJJmDYJ4s",
      "include_colab_link": true
    },
    "kernelspec": {
      "name": "python3",
      "display_name": "Python 3"
    },
    "language_info": {
      "name": "python"
    },
    "accelerator": "GPU"
  },
  "cells": [
    {
      "cell_type": "markdown",
      "metadata": {
        "id": "view-in-github",
        "colab_type": "text"
      },
      "source": [
        "<a href=\"https://colab.research.google.com/github/SolFreire/BasicfuruitsclassificatorCNN/blob/main/Untitled7.ipynb\" target=\"_parent\"><img src=\"https://colab.research.google.com/assets/colab-badge.svg\" alt=\"Open In Colab\"/></a>"
      ]
    },
    {
      "cell_type": "markdown",
      "source": [],
      "metadata": {
        "id": "7mH_Q78BAKcM"
      }
    },
    {
      "cell_type": "markdown",
      "source": [
        "1. Avaliando que a tarefa é de classificação com os daods de entrada no formato de imagens a rede mais adequada é a CNN, rede neural convolucional. Esse tipo de modelo é amplamente usado em tarefas de visão computacional visto que é capaz de extrair informações como bordas, cores, formas e texturas automaticamente. Para o dataset de exemplo usei o mais poupular no kaggle de frutas e para rede neural estarei utilizando a do TensorFlow"
      ],
      "metadata": {
        "id": "4YWBuC-JAMVB"
      }
    },
    {
      "cell_type": "code",
      "execution_count": 10,
      "metadata": {
        "id": "0kvpWlWCAJzS"
      },
      "outputs": [],
      "source": [
        "import tensorflow as tf\n",
        "from tensorflow.keras.preprocessing.image import ImageDataGenerator\n",
        "from tensorflow.keras.models import Sequential\n",
        "from tensorflow.keras.layers import Conv2D, MaxPooling2D, Flatten, Dense, Dropout\n",
        "from tensorflow.keras.preprocessing.image import ImageDataGenerator\n",
        "import matplotlib.pyplot as plt\n",
        "import numpy as np\n"
      ]
    },
    {
      "cell_type": "code",
      "source": [
        "import kagglehub\n",
        "\n",
        "# Download latest version\n",
        "path = kagglehub.dataset_download(\"moltean/fruits\")\n",
        "\n",
        "print(\"Path to dataset files:\", path)"
      ],
      "metadata": {
        "colab": {
          "base_uri": "https://localhost:8080/"
        },
        "id": "HaFi4yvTBVp9",
        "outputId": "dc8a4c4b-2e97-470d-887a-e8c169e46bef"
      },
      "execution_count": 9,
      "outputs": [
        {
          "output_type": "stream",
          "name": "stdout",
          "text": [
            "Using Colab cache for faster access to the 'fruits' dataset.\n",
            "Path to dataset files: /kaggle/input/fruits\n"
          ]
        }
      ]
    },
    {
      "cell_type": "code",
      "source": [
        "train_dir = '/kaggle/input/fruits/fruits-360_100x100/fruits-360/Training'\n",
        "test_dir  = '/kaggle/input/fruits/fruits-360_100x100/fruits-360/Test'"
      ],
      "metadata": {
        "id": "LGVXTH4CBj3j"
      },
      "execution_count": 11,
      "outputs": []
    },
    {
      "cell_type": "markdown",
      "source": [
        "2. Para tratamento das imagens(entrada) reparei que o dataset já as tras em tamanho padrão então irei normaliza-las e irei inserir algumas modificações artificiais nas imagens como rotação para torna-la mais generalizável para imagens reais\n"
      ],
      "metadata": {
        "id": "cS4ebhL4DGh5"
      }
    },
    {
      "cell_type": "code",
      "source": [
        "train_datagen = ImageDataGenerator(\n",
        "    rescale=1./255,\n",
        "    rotation_range=20,\n",
        "    zoom_range=0.2,\n",
        "    horizontal_flip=True\n",
        ")\n",
        "test_datagen = ImageDataGenerator(rescale=1./255)"
      ],
      "metadata": {
        "id": "f0yKOPDCD3rE"
      },
      "execution_count": 12,
      "outputs": []
    },
    {
      "cell_type": "code",
      "source": [
        "train_generator = train_datagen.flow_from_directory(\n",
        "    train_dir,\n",
        "    target_size=(100, 100),\n",
        "    batch_size=32,\n",
        "    class_mode='categorical'\n",
        ")\n",
        "test_generator = test_datagen.flow_from_directory(\n",
        "    test_dir,\n",
        "    target_size=(100, 100),\n",
        "    batch_size=32,\n",
        "    class_mode='categorical'\n",
        ")"
      ],
      "metadata": {
        "colab": {
          "base_uri": "https://localhost:8080/"
        },
        "id": "ihXGCGnXEKsI",
        "outputId": "10d0dda7-aa25-446c-b3e2-20893dd6f394"
      },
      "execution_count": 13,
      "outputs": [
        {
          "output_type": "stream",
          "name": "stdout",
          "text": [
            "Found 117576 images belonging to 225 classes.\n",
            "Found 39212 images belonging to 225 classes.\n"
          ]
        }
      ]
    },
    {
      "cell_type": "code",
      "source": [
        "img, label = next(test_generator)\n",
        "\n",
        "class_names = list(test_generator.class_indices.keys())\n",
        "predicted_class = class_names[np.argmax(label)]\n",
        "\n",
        "plt.imshow(img[0])\n",
        "plt.title(f\"Classe: {predicted_class}\")\n",
        "plt.axis('off')\n",
        "plt.show()"
      ],
      "metadata": {
        "colab": {
          "base_uri": "https://localhost:8080/",
          "height": 428
        },
        "id": "08lRa0qfF4ay",
        "outputId": "a951f5e9-548a-48fc-c127-97fc9b1be374"
      },
      "execution_count": 14,
      "outputs": [
        {
          "output_type": "display_data",
          "data": {
            "text/plain": [
              "<Figure size 640x480 with 1 Axes>"
            ],
            "image/png": "[encoded data removed]"
          },
          "metadata": {}
        }
      ]
    },
    {
      "cell_type": "markdown",
      "source": [
        "Explicação das camadas:\n",
        "* Conv2D: detecta padrões visuais (bordas, formas, cores) através da operação matemática de convolução.\n",
        "* MaxPooling2D: reduz a dimensionalidade, mantendo as características mais importantes.\n",
        "* Flatten: transforma o mapa de características em um vetor.\n",
        "* Dense: camadas totalmente conectadas para aprender combinações complexas das características.\n",
        "* Dropout: evita overfitting.\n",
        "* Softmax: gera probabilidades para cada classe."
      ],
      "metadata": {
        "id": "VggzF8IoEouT"
      }
    },
    {
      "cell_type": "code",
      "source": [
        "model = Sequential([\n",
        "    Conv2D(32, (3,3), activation='relu', input_shape=(100,100,3)),\n",
        "    MaxPooling2D(2,2),\n",
        "    Conv2D(64, (3,3), activation='relu'),\n",
        "    MaxPooling2D(2,2),\n",
        "    Flatten(),\n",
        "    Dense(128, activation='relu'),\n",
        "    Dropout(0.5),\n",
        "    Dense(train_generator.num_classes, activation='softmax')\n",
        "])\n",
        "\n",
        "model.compile(optimizer='adam',\n",
        "              loss='categorical_crossentropy',\n",
        "              metrics=['accuracy'])\n",
        "\n",
        "history = model.fit(train_generator, epochs=15, validation_data=test_generator)"
      ],
      "metadata": {
        "colab": {
          "base_uri": "https://localhost:8080/"
        },
        "id": "0FqUYWE_ET5L",
        "outputId": "3228ee59-e95a-4e04-9a5e-adfc59c8b9c3"
      },
      "execution_count": null,
      "outputs": [
        {
          "output_type": "stream",
          "name": "stdout",
          "text": [
            "Epoch 1/15\n",
            "\u001b[1m1635/3675\u001b[0m \u001b[32m━━━━━━━━\u001b[0m\u001b[37m━━━━━━━━━━━━\u001b[0m \u001b[1m4:59\u001b[0m 147ms/step - accuracy: 0.1316 - loss: 4.0079"
          ]
        }
      ]
    },
    {
      "cell_type": "markdown",
      "source": [
        "4.\n",
        "* Função de perda: categorical_crossentropy, usada em problemas de classificação multiclasse.\n",
        "* Otimizador: Adam, eficiente e amplamente usado por se adaptar automaticamente à taxa de aprendizado.\n",
        "\n",
        "5.Após o treinamento, o modelo é testado com o conjunto de teste, que contém imagens nunca vistas."
      ],
      "metadata": {
        "id": "Jg4rhHn9HyCB"
      }
    },
    {
      "cell_type": "code",
      "source": [
        "img, label = next(test_generator)\n",
        "\n",
        "# Faz a predição\n",
        "prediction = model.predict(img)\n",
        "\n",
        "# Identifica a classe verdadeira e a prevista\n",
        "class_names = list(test_generator.class_indices.keys())\n",
        "true_class = class_names[np.argmax(label)]\n",
        "predicted_class = class_names[np.argmax(prediction)]\n",
        "\n",
        "# Exibe resultado\n",
        "plt.imshow(img[0])\n",
        "plt.title(f\"Verdadeira: {true_class} | Prevista: {predicted_class}\")\n",
        "plt.axis('off')\n",
        "plt.show()\n"
      ],
      "metadata": {
        "id": "Q3resz7ZFND1"
      },
      "execution_count": null,
      "outputs": []
    },
    {
      "cell_type": "markdown",
      "source": [
        "6.O modelo de rede neural convolucional desenvolvido será capaz de analisar automaticamente uma imagem enviada e identificar se ela contém uma maçã, banana ou laranja(até outras frutas).\n",
        "Graças às camadas convolucionais, o sistema aprende as características visuais únicas de cada fruta, tornando-se eficiente para uso em um e-commerce, auxiliando na classificação automática de produtos e otimizando o processo de cadastro e organização de imagens."
      ],
      "metadata": {
        "id": "Bt0GWSFfH_Rq"
      }
    }
  ]
}